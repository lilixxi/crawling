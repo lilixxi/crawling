{
 "cells": [
  {
   "cell_type": "code",
   "execution_count": 4,
   "id": "17795f19-a57e-42d0-a209-8a5cb5d8bf62",
   "metadata": {},
   "outputs": [
    {
     "name": "stderr",
     "output_type": "stream",
     "text": [
      "The chromedriver version (123.0.6312.122) detected in PATH at /opt/homebrew/bin/chromedriver might not be compatible with the detected chrome version (124.0.6367.62); currently, chromedriver 124.0.6367.60 is recommended for chrome 124.*, so it is advised to delete the driver in PATH and retry\n"
     ]
    },
    {
     "name": "stdout",
     "output_type": "stream",
     "text": [
      "22\n",
      "------------------------------\n",
      "현재 전주시 덕진구 동부대로의 온도는 22도 입니다.\n"
     ]
    }
   ],
   "source": [
    "from selenium import webdriver\n",
    "from selenium.webdriver.chrome.options import Options\n",
    "from selenium.webdriver.common.by import By\n",
    "\n",
    "# 브라우저 옵션 설정 \n",
    "chrome_options = Options()\n",
    "chrome_options.add_experimental_option(\"detach\", True)\n",
    "# 브라우저를 자동화한 후 >> browser window 창 유지 \n",
    "chrome_options.add_experimental_option(\"excludeSwitches\", [\"enable-logging\"])\n",
    "\n",
    "# excludeSwitches: 불필요한 로깅 메시지 >> 브라우저에서 제외 \n",
    "\n",
    "driver = webdriver.Chrome(options=chrome_options)\n",
    "\n",
    "# 원하는 웹페이지로 이동\n",
    "path =  \"https://www.google.com/search?q=weather\"\n",
    "driver.get(path)\n",
    "\n",
    "# css 선택자 사용, 원하는 클래스를 가진 웹 요소 접근 \n",
    "# #wob_tm, #oFNiHe > omnient-visibility-control > div > div > div.eKPi4.BUSxSd > span:nth-child(2) > span.BBwThe\n",
    "\n",
    "element = driver.find_element(By.ID, 'wob_tm').text\n",
    "print(element)\n",
    "location = driver.find_element(By.CSS_SELECTOR, 'span.BBwThe').text\n",
    "\n",
    "print(\"-\" * 30)\n",
    "print(f\"현재 {location}의 온도는 {element}도 입니다.\")\n",
    "\n",
    "driver.quit()"
   ]
  },
  {
   "cell_type": "code",
   "execution_count": 5,
   "id": "6b84e249-e25d-4ddc-99a5-1a5f22da5b56",
   "metadata": {},
   "outputs": [
    {
     "name": "stdout",
     "output_type": "stream",
     "text": [
      "현재 전주시 덕진구 동부대로의 온도는 22도 입니다.\n"
     ]
    }
   ],
   "source": [
    "print(f\"현재 {location}의 온도는 {element}도 입니다.\")\n"
   ]
  },
  {
   "cell_type": "code",
   "execution_count": null,
   "id": "e0c9c872-dc7a-4c86-8307-ce852af0ddc0",
   "metadata": {},
   "outputs": [],
   "source": []
  }
 ],
 "metadata": {
  "kernelspec": {
   "display_name": "Python 3 (ipykernel)",
   "language": "python",
   "name": "python3"
  },
  "language_info": {
   "codemirror_mode": {
    "name": "ipython",
    "version": 3
   },
   "file_extension": ".py",
   "mimetype": "text/x-python",
   "name": "python",
   "nbconvert_exporter": "python",
   "pygments_lexer": "ipython3",
   "version": "3.11.7"
  }
 },
 "nbformat": 4,
 "nbformat_minor": 5
}
